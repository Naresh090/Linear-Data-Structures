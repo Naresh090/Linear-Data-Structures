{
 "cells": [
  {
   "cell_type": "markdown",
   "id": "3fc2f41a",
   "metadata": {},
   "source": [
    "# 1.Delete the elements in an linked list whose sum is equal to zero"
   ]
  },
  {
   "cell_type": "code",
   "execution_count": 2,
   "id": "d27299f2",
   "metadata": {},
   "outputs": [
    {
     "name": "stdout",
     "output_type": "stream",
     "text": [
      "Original Linked List:\n",
      "6 -> -6 -> 8 -> 4 -> -12 -> 9 -> None\n"
     ]
    },
    {
     "ename": "KeyError",
     "evalue": "0",
     "output_type": "error",
     "traceback": [
      "\u001b[1;31m---------------------------------------------------------------------------\u001b[0m",
      "\u001b[1;31mKeyError\u001b[0m                                  Traceback (most recent call last)",
      "Cell \u001b[1;32mIn[2], line 63\u001b[0m\n\u001b[0;32m     60\u001b[0m \u001b[38;5;28mprint\u001b[39m(\u001b[38;5;124m\"\u001b[39m\u001b[38;5;124mOriginal Linked List:\u001b[39m\u001b[38;5;124m\"\u001b[39m)\n\u001b[0;32m     61\u001b[0m linked_list\u001b[38;5;241m.\u001b[39mprint_list()\n\u001b[1;32m---> 63\u001b[0m new_head \u001b[38;5;241m=\u001b[39m \u001b[43mdelete_zero_sum_sublists\u001b[49m\u001b[43m(\u001b[49m\u001b[43mlinked_list\u001b[49m\u001b[38;5;241;43m.\u001b[39;49m\u001b[43mhead\u001b[49m\u001b[43m)\u001b[49m\n\u001b[0;32m     65\u001b[0m \u001b[38;5;28mprint\u001b[39m(\u001b[38;5;124m\"\u001b[39m\u001b[38;5;130;01m\\n\u001b[39;00m\u001b[38;5;124mLinked List after Deleting Zero Sum Sublists:\u001b[39m\u001b[38;5;124m\"\u001b[39m)\n\u001b[0;32m     66\u001b[0m new_linked_list \u001b[38;5;241m=\u001b[39m LinkedList()\n",
      "Cell \u001b[1;32mIn[2], line 44\u001b[0m, in \u001b[0;36mdelete_zero_sum_sublists\u001b[1;34m(head)\u001b[0m\n\u001b[0;32m     42\u001b[0m         \u001b[38;5;28;01mdel\u001b[39;00m prefix_sum_dict[temp_sum]\n\u001b[0;32m     43\u001b[0m         prev \u001b[38;5;241m=\u001b[39m prev\u001b[38;5;241m.\u001b[39mnext\n\u001b[1;32m---> 44\u001b[0m     \u001b[43mprefix_sum_dict\u001b[49m\u001b[43m[\u001b[49m\u001b[43mprefix_sum\u001b[49m\u001b[43m]\u001b[49m\u001b[38;5;241m.\u001b[39mnext \u001b[38;5;241m=\u001b[39m current\u001b[38;5;241m.\u001b[39mnext\n\u001b[0;32m     45\u001b[0m \u001b[38;5;28;01melse\u001b[39;00m:\n\u001b[0;32m     46\u001b[0m     prefix_sum_dict[prefix_sum] \u001b[38;5;241m=\u001b[39m current\n",
      "\u001b[1;31mKeyError\u001b[0m: 0"
     ]
    }
   ],
   "source": [
    "class Node:\n",
    "    def __init__(self, data):\n",
    "        self.data = data\n",
    "        self.next = None\n",
    "\n",
    "class LinkedList:\n",
    "    def __init__(self):\n",
    "        self.head = None\n",
    "\n",
    "    def append(self, data):\n",
    "        new_node = Node(data)\n",
    "        if not self.head:\n",
    "            self.head = new_node\n",
    "            return\n",
    "        current = self.head\n",
    "        while current.next:\n",
    "            current = current.next\n",
    "        current.next = new_node\n",
    "\n",
    "    def print_list(self):\n",
    "        current = self.head\n",
    "        while current:\n",
    "            print(current.data, end=\" -> \")\n",
    "            current = current.next\n",
    "        print(\"None\")\n",
    "\n",
    "def delete_zero_sum_sublists(head):\n",
    "    prefix_sum = 0\n",
    "    prefix_sum_dict = {}\n",
    "    dummy = Node(0)\n",
    "    dummy.next = head\n",
    "    current = dummy\n",
    "\n",
    "    while current:\n",
    "        prefix_sum += current.data\n",
    "        if prefix_sum in prefix_sum_dict:\n",
    "            # Delete elements between the two occurrences of the prefix sum\n",
    "            prev = prefix_sum_dict[prefix_sum].next\n",
    "            temp_sum = prefix_sum + prev.data\n",
    "            while prev != current:\n",
    "                temp_sum += prev.next.data\n",
    "                del prefix_sum_dict[temp_sum]\n",
    "                prev = prev.next\n",
    "            prefix_sum_dict[prefix_sum].next = current.next\n",
    "        else:\n",
    "            prefix_sum_dict[prefix_sum] = current\n",
    "        current = current.next\n",
    "\n",
    "    return dummy.next\n",
    "\n",
    "# Create a linked list with elements\n",
    "linked_list = LinkedList()\n",
    "linked_list.append(6)\n",
    "linked_list.append(-6)\n",
    "linked_list.append(8)\n",
    "linked_list.append(4)\n",
    "linked_list.append(-12)\n",
    "linked_list.append(9)\n",
    "\n",
    "print(\"Original Linked List:\")\n",
    "linked_list.print_list()\n",
    "\n",
    "new_head = delete_zero_sum_sublists(linked_list.head)\n",
    "\n",
    "print(\"\\nLinked List after Deleting Zero Sum Sublists:\")\n",
    "new_linked_list = LinkedList()\n",
    "new_linked_list.head = new_head\n",
    "new_linked_list.print_list()\n"
   ]
  },
  {
   "cell_type": "markdown",
   "id": "8b6574b0",
   "metadata": {},
   "source": [
    "# 2.Reverse a linked list in groups of given size"
   ]
  },
  {
   "cell_type": "code",
   "execution_count": 4,
   "id": "c46e6bc1",
   "metadata": {},
   "outputs": [
    {
     "name": "stdout",
     "output_type": "stream",
     "text": [
      "Original Linked List:\n",
      "1 -> 2 -> 3 -> 4 -> 5 -> 6 -> 7 -> 8 -> None\n"
     ]
    },
    {
     "ename": "UnboundLocalError",
     "evalue": "local variable 'k' referenced before assignment",
     "output_type": "error",
     "traceback": [
      "\u001b[1;31m---------------------------------------------------------------------------\u001b[0m",
      "\u001b[1;31mUnboundLocalError\u001b[0m                         Traceback (most recent call last)",
      "Cell \u001b[1;32mIn[4], line 82\u001b[0m\n\u001b[0;32m     79\u001b[0m print_linked_list(head)\n\u001b[0;32m     81\u001b[0m k \u001b[38;5;241m=\u001b[39m \u001b[38;5;241m3\u001b[39m\n\u001b[1;32m---> 82\u001b[0m new_head \u001b[38;5;241m=\u001b[39m \u001b[43mreverse_in_groups\u001b[49m\u001b[43m(\u001b[49m\u001b[43mhead\u001b[49m\u001b[43m,\u001b[49m\u001b[43m \u001b[49m\u001b[43mk\u001b[49m\u001b[43m)\u001b[49m\n\u001b[0;32m     83\u001b[0m \u001b[38;5;28mprint\u001b[39m(\u001b[38;5;124mf\u001b[39m\u001b[38;5;124m\"\u001b[39m\u001b[38;5;124mLinked List after Reversing in Groups of \u001b[39m\u001b[38;5;132;01m{\u001b[39;00mk\u001b[38;5;132;01m}\u001b[39;00m\u001b[38;5;124m:\u001b[39m\u001b[38;5;124m\"\u001b[39m)\n\u001b[0;32m     84\u001b[0m print_linked_list(new_head)\n",
      "Cell \u001b[1;32mIn[4], line 45\u001b[0m, in \u001b[0;36mreverse_in_groups\u001b[1;34m(head, k)\u001b[0m\n\u001b[0;32m     42\u001b[0m group_tail\u001b[38;5;241m.\u001b[39mnext \u001b[38;5;241m=\u001b[39m \u001b[38;5;28;01mNone\u001b[39;00m\n\u001b[0;32m     44\u001b[0m \u001b[38;5;66;03m# Reverse the group\u001b[39;00m\n\u001b[1;32m---> 45\u001b[0m reversed_group_head \u001b[38;5;241m=\u001b[39m \u001b[43mreverse_group\u001b[49m\u001b[43m(\u001b[49m\u001b[43mgroup_head\u001b[49m\u001b[43m)\u001b[49m\n\u001b[0;32m     47\u001b[0m \u001b[38;5;66;03m# Connect the reversed group to the previous group\u001b[39;00m\n\u001b[0;32m     48\u001b[0m prev_group_tail\u001b[38;5;241m.\u001b[39mnext \u001b[38;5;241m=\u001b[39m reversed_group_head\n",
      "Cell \u001b[1;32mIn[4], line 14\u001b[0m, in \u001b[0;36mreverse_in_groups.<locals>.reverse_group\u001b[1;34m(group_head)\u001b[0m\n\u001b[0;32m     12\u001b[0m prev \u001b[38;5;241m=\u001b[39m \u001b[38;5;28;01mNone\u001b[39;00m\n\u001b[0;32m     13\u001b[0m current \u001b[38;5;241m=\u001b[39m group_head\n\u001b[1;32m---> 14\u001b[0m \u001b[38;5;28;01mwhile\u001b[39;00m current \u001b[38;5;129;01mand\u001b[39;00m \u001b[43mk\u001b[49m \u001b[38;5;241m>\u001b[39m \u001b[38;5;241m0\u001b[39m:\n\u001b[0;32m     15\u001b[0m     next_node \u001b[38;5;241m=\u001b[39m current\u001b[38;5;241m.\u001b[39mnext\n\u001b[0;32m     16\u001b[0m     current\u001b[38;5;241m.\u001b[39mnext \u001b[38;5;241m=\u001b[39m prev\n",
      "\u001b[1;31mUnboundLocalError\u001b[0m: local variable 'k' referenced before assignment"
     ]
    }
   ],
   "source": [
    "class ListNode:\n",
    "    def __init__(self, value):\n",
    "        self.value = value\n",
    "        self.next = None\n",
    "\n",
    "def reverse_in_groups(head, k):\n",
    "    if not head or k <= 1:\n",
    "        return head\n",
    "\n",
    "    # Function to reverse a linked list within a group of size k\n",
    "    def reverse_group(group_head):\n",
    "        prev = None\n",
    "        current = group_head\n",
    "        while current and k > 0:\n",
    "            next_node = current.next\n",
    "            current.next = prev\n",
    "            prev = current\n",
    "            current = next_node\n",
    "            k -= 1\n",
    "        return prev\n",
    "\n",
    "    # Initialize pointers\n",
    "    dummy = ListNode(0)\n",
    "    dummy.next = head\n",
    "    prev_group_tail = dummy\n",
    "    current = head\n",
    "\n",
    "    while current:\n",
    "        group_head = current\n",
    "        group_tail = current\n",
    "\n",
    "        # Move k nodes forward or until the end of the list\n",
    "        for _ in range(k - 1):\n",
    "            if group_tail.next:\n",
    "                group_tail = group_tail.next\n",
    "            else:\n",
    "                break\n",
    "\n",
    "        next_group_head = group_tail.next if group_tail else None\n",
    "\n",
    "        # Disconnect the group from the rest of the list temporarily\n",
    "        group_tail.next = None\n",
    "\n",
    "        # Reverse the group\n",
    "        reversed_group_head = reverse_group(group_head)\n",
    "\n",
    "        # Connect the reversed group to the previous group\n",
    "        prev_group_tail.next = reversed_group_head\n",
    "        group_head.next = next_group_head\n",
    "\n",
    "        # Update pointers for the next iteration\n",
    "        prev_group_tail = group_head\n",
    "        current = next_group_head\n",
    "\n",
    "    return dummy.next\n",
    "\n",
    "def print_linked_list(head):\n",
    "    current = head\n",
    "    while current:\n",
    "        print(current.value, end=\" -> \")\n",
    "        current = current.next\n",
    "    print(\"None\")\n",
    "\n",
    "# Helper function to create a linked list from a list of values\n",
    "def create_linked_list(values):\n",
    "    if not values:\n",
    "        return None\n",
    "    head = ListNode(values[0])\n",
    "    current = head\n",
    "    for value in values[1:]:\n",
    "        current.next = ListNode(value)\n",
    "        current = current.next\n",
    "    return head\n",
    "\n",
    "# Example usage\n",
    "values = [1, 2, 3, 4, 5, 6, 7, 8]\n",
    "head = create_linked_list(values)\n",
    "print(\"Original Linked List:\")\n",
    "print_linked_list(head)\n",
    "\n",
    "k = 3\n",
    "new_head = reverse_in_groups(head, k)\n",
    "print(f\"Linked List after Reversing in Groups of {k}:\")\n",
    "print_linked_list(new_head)\n"
   ]
  },
  {
   "cell_type": "markdown",
   "id": "15bf759b",
   "metadata": {},
   "source": [
    "# 3.Merge a linked list into another linked list at alternate positions."
   ]
  },
  {
   "cell_type": "code",
   "execution_count": 5,
   "id": "c5f91e78",
   "metadata": {},
   "outputs": [
    {
     "name": "stdout",
     "output_type": "stream",
     "text": [
      "Original Linked List 1:\n",
      "1 -> 3 -> 5 -> None\n",
      "Original Linked List 2:\n",
      "2 -> 4 -> 6 -> None\n",
      "Merged Linked List:\n",
      "1 -> 2 -> 3 -> 4 -> 5 -> 6 -> None\n"
     ]
    }
   ],
   "source": [
    "class ListNode:\n",
    "    def __init__(self, value):\n",
    "        self.value = value\n",
    "        self.next = None\n",
    "\n",
    "def merge_alternate(head1, head2):\n",
    "    if not head1:\n",
    "        return head2\n",
    "    if not head2:\n",
    "        return head1\n",
    "\n",
    "    current1 = head1\n",
    "    current2 = head2\n",
    "\n",
    "    while current1 and current2:\n",
    "        next1 = current1.next\n",
    "        next2 = current2.next\n",
    "\n",
    "        # Insert current2 after current1\n",
    "        current1.next = current2\n",
    "        current2.next = next1\n",
    "\n",
    "        # Move to the next pair of nodes\n",
    "        current1 = next1\n",
    "        current2 = next2\n",
    "\n",
    "    # If one list is longer than the other, append the remaining portion\n",
    "    if current2:\n",
    "        current1.next = current2\n",
    "\n",
    "    return head1\n",
    "\n",
    "def print_linked_list(head):\n",
    "    current = head\n",
    "    while current:\n",
    "        print(current.value, end=\" -> \")\n",
    "        current = current.next\n",
    "    print(\"None\")\n",
    "\n",
    "# Helper function to create a linked list from a list of values\n",
    "def create_linked_list(values):\n",
    "    if not values:\n",
    "        return None\n",
    "    head = ListNode(values[0])\n",
    "    current = head\n",
    "    for value in values[1:]:\n",
    "        current.next = ListNode(value)\n",
    "        current = current.next\n",
    "    return head\n",
    "\n",
    "# Example usage\n",
    "values1 = [1, 3, 5]\n",
    "values2 = [2, 4, 6]\n",
    "head1 = create_linked_list(values1)\n",
    "head2 = create_linked_list(values2)\n",
    "\n",
    "print(\"Original Linked List 1:\")\n",
    "print_linked_list(head1)\n",
    "\n",
    "print(\"Original Linked List 2:\")\n",
    "print_linked_list(head2)\n",
    "\n",
    "merged_head = merge_alternate(head1, head2)\n",
    "print(\"Merged Linked List:\")\n",
    "print_linked_list(merged_head)\n"
   ]
  },
  {
   "cell_type": "markdown",
   "id": "84772862",
   "metadata": {},
   "source": [
    "# 4.In an array, Count Pairs with given sum"
   ]
  },
  {
   "cell_type": "code",
   "execution_count": 6,
   "id": "7290cc95",
   "metadata": {},
   "outputs": [
    {
     "name": "stdout",
     "output_type": "stream",
     "text": [
      "Number of pairs with sum 7: 3\n"
     ]
    }
   ],
   "source": [
    "def count_pairs_with_sum(arr, target_sum):\n",
    "    # Create a dictionary to store the frequency of each element\n",
    "    element_count = {}\n",
    "\n",
    "    # Initialize the count of pairs with the given sum\n",
    "    pair_count = 0\n",
    "\n",
    "    # Iterate through the array\n",
    "    for num in arr:\n",
    "        # Calculate the complement needed to reach the target sum\n",
    "        complement = target_sum - num\n",
    "\n",
    "        # Check if the complement is in the dictionary\n",
    "        if complement in element_count:\n",
    "            # Increment the pair count by the frequency of the complement\n",
    "            pair_count += element_count[complement]\n",
    "\n",
    "        # Increment the frequency of the current element in the dictionary\n",
    "        if num in element_count:\n",
    "            element_count[num] += 1\n",
    "        else:\n",
    "            element_count[num] = 1\n",
    "\n",
    "    # The pair count now holds the total count of pairs with the given sum\n",
    "    return pair_count\n",
    "\n",
    "# Example usage\n",
    "arr = [1, 2, 3, 4, 5, 6]\n",
    "target_sum = 7\n",
    "\n",
    "result = count_pairs_with_sum(arr, target_sum)\n",
    "print(f\"Number of pairs with sum {target_sum}: {result}\")\n"
   ]
  },
  {
   "cell_type": "markdown",
   "id": "08d077ed",
   "metadata": {},
   "source": [
    "# 5.Find duplicates in an array"
   ]
  },
  {
   "cell_type": "code",
   "execution_count": 7,
   "id": "a3ab54c1",
   "metadata": {},
   "outputs": [
    {
     "name": "stdout",
     "output_type": "stream",
     "text": [
      "Duplicates in the array: [2, 3]\n"
     ]
    }
   ],
   "source": [
    "def find_duplicates(arr):\n",
    "    seen = {}\n",
    "    duplicates = []\n",
    "\n",
    "    for num in arr:\n",
    "        if num in seen:\n",
    "            duplicates.append(num)\n",
    "        else:\n",
    "            seen[num] = 1\n",
    "\n",
    "    return duplicates\n",
    "\n",
    "def find_duplicates(arr):\n",
    "    arr.sort()\n",
    "    duplicates = []\n",
    "\n",
    "    for i in range(1, len(arr)):\n",
    "        if arr[i] == arr[i - 1]:\n",
    "            duplicates.append(arr[i])\n",
    "\n",
    "    return duplicates\n",
    "\n",
    "def find_duplicates(arr):\n",
    "    seen = set()\n",
    "    duplicates = set()\n",
    "\n",
    "    for num in arr:\n",
    "        if num in seen:\n",
    "            duplicates.add(num)\n",
    "        else:\n",
    "            seen.add(num)\n",
    "\n",
    "    return list(duplicates)\n",
    "\n",
    "arr = [1, 2, 3, 4, 2, 5, 6, 3]\n",
    "duplicates = find_duplicates(arr)\n",
    "print(\"Duplicates in the array:\", duplicates)\n"
   ]
  },
  {
   "cell_type": "markdown",
   "id": "a00e09e9",
   "metadata": {},
   "source": [
    "# 6.Find the Kth largest and Kth smallest number in an array"
   ]
  },
  {
   "cell_type": "code",
   "execution_count": null,
   "id": "03a3ac49",
   "metadata": {},
   "outputs": [],
   "source": [
    "class ListNode:\n",
    "    def __init__(self, value):\n",
    "        self.value = value\n",
    "        self.next = None\n",
    "\n",
    "def insert_sorted(head, new_node, is_ascending=True):\n",
    "    if not head:\n",
    "        return new_node\n",
    "\n",
    "    if (is_ascending and new_node.value <= head.value) or (\n",
    "        not is_ascending and new_node.value >= head.value\n",
    "    ):\n",
    "        new_node.next = head\n",
    "        return new_node\n",
    "\n",
    "    current = head\n",
    "    while current.next:\n",
    "        if (is_ascending and new_node.value <= current.next.value) or (\n",
    "            not is_ascending and new_node.value >= current.next.value\n",
    "        ):\n",
    "            new_node.next = current.next\n",
    "            current.next = new_node\n",
    "            return head\n",
    "        current = current.next\n",
    "\n",
    "    current.next = new_node\n",
    "    return head\n",
    "\n",
    "def kth_smallest_and_largest(arr, k):\n",
    "    if k <= 0 or k > len(arr):\n",
    "        return None\n",
    "\n",
    "    head_smallest = None\n",
    "    head_largest = None\n",
    "\n",
    "    for num in arr:\n",
    "        node = ListNode(num)\n",
    "        head_smallest = insert_sorted(head_smallest, node)\n",
    "        head_largest = insert_sorted(head_largest, node, is_ascending=False)\n",
    "\n",
    "    current_smallest = head_smallest\n",
    "    current_largest = head_largest\n",
    "\n",
    "    for _ in range(k - 1):\n",
    "        current_smallest = current_smallest.next\n",
    "        current_largest = current_largest.next\n",
    "\n",
    "    return current_smallest.value, current_largest.value\n",
    "\n",
    "# Example usage\n",
    "arr = [3, 1, 4, 1, 5, 9, 2, 6, 5, 3, 5]\n",
    "k = 3\n",
    "\n",
    "kth_smallest, kth_largest = kth_smallest_and_largest(arr, k)\n",
    "print(f\"{k}th Smallest Number: {kth_smallest}\")\n",
    "print(f\"{k}th Largest Number: {kth_largest}\")\n"
   ]
  },
  {
   "cell_type": "markdown",
   "id": "838579a9",
   "metadata": {},
   "source": [
    "# 7.Move all the negative elements to one side of the array"
   ]
  },
  {
   "cell_type": "code",
   "execution_count": 2,
   "id": "03bb36fc",
   "metadata": {},
   "outputs": [
    {
     "name": "stdout",
     "output_type": "stream",
     "text": [
      "[-1, -8, -3, -5, 4, 6, 7, 2]\n"
     ]
    }
   ],
   "source": [
    "def move_negatives_to_one_side(arr):\n",
    "    left = 0  # Initialize the left pointer at the beginning of the array\n",
    "    right = len(arr) - 1  # Initialize the right pointer at the end of the array\n",
    "\n",
    "    while left <= right:\n",
    "        if arr[left] < 0 and arr[right] < 0:\n",
    "            # Both elements are negative, move the left pointer to the right\n",
    "            left += 1\n",
    "        elif arr[left] >= 0 and arr[right] < 0:\n",
    "            # Left element is positive, right element is negative, swap them\n",
    "            arr[left], arr[right] = arr[right], arr[left]\n",
    "            left += 1\n",
    "            right -= 1\n",
    "        elif arr[left] >= 0 and arr[right] >= 0:\n",
    "            # Both elements are positive, move the right pointer to the left\n",
    "            right -= 1\n",
    "        else:\n",
    "            # Left element is negative, right element is positive, continue\n",
    "            left += 1\n",
    "            right -= 1\n",
    "\n",
    "# Example usage\n",
    "arr = [-1, 2, -3, 4, -5, 6, 7, -8]\n",
    "move_negatives_to_one_side(arr)\n",
    "print(arr)\n"
   ]
  },
  {
   "cell_type": "markdown",
   "id": "3dd6c959",
   "metadata": {},
   "source": [
    "# 8.Reverse a string using a stack data structure"
   ]
  },
  {
   "cell_type": "code",
   "execution_count": 1,
   "id": "677f376c",
   "metadata": {},
   "outputs": [
    {
     "name": "stdout",
     "output_type": "stream",
     "text": [
      "Original String: Hello, World!\n",
      "Reversed String: !dlroW ,olleH\n"
     ]
    }
   ],
   "source": [
    "def reverse_string_with_stack(input_str):\n",
    "    stack = []  # Initialize an empty stack\n",
    "\n",
    "    # Push each character of the input string onto the stack\n",
    "    for char in input_str:\n",
    "        stack.append(char)\n",
    "\n",
    "    # Pop characters from the stack to build the reversed string\n",
    "    reversed_str = \"\"\n",
    "    while stack:\n",
    "        reversed_str += stack.pop()\n",
    "\n",
    "    return reversed_str\n",
    "\n",
    "# Example usage\n",
    "input_str = \"Hello, World!\"\n",
    "reversed_str = reverse_string_with_stack(input_str)\n",
    "print(\"Original String:\", input_str)\n",
    "print(\"Reversed String:\", reversed_str)\n"
   ]
  },
  {
   "cell_type": "markdown",
   "id": "36cc1d92",
   "metadata": {},
   "source": [
    "# 9.Evaluate a postfix expression using stack"
   ]
  },
  {
   "cell_type": "code",
   "execution_count": 1,
   "id": "5f37cad1",
   "metadata": {},
   "outputs": [
    {
     "name": "stdout",
     "output_type": "stream",
     "text": [
      "Result of postfix expression: 11\n"
     ]
    }
   ],
   "source": [
    "def evaluate_postfix(expression):\n",
    "    stack = []\n",
    "\n",
    "    def is_operand(char):\n",
    "        return char.isnumeric()\n",
    "\n",
    "    def apply_operator(op, operand1, operand2):\n",
    "        if op == \"+\":\n",
    "            return operand1 + operand2\n",
    "        elif op == \"-\":\n",
    "            return operand1 - operand2\n",
    "        elif op == \"*\":\n",
    "            return operand1 * operand2\n",
    "        elif op == \"/\":\n",
    "            if operand2 == 0:\n",
    "                raise ValueError(\"Division by zero\")\n",
    "            return operand1 / operand2\n",
    "\n",
    "    for char in expression:\n",
    "        if is_operand(char):\n",
    "            stack.append(int(char))\n",
    "        elif char in \"+-*/\":\n",
    "            if len(stack) < 2:\n",
    "                raise ValueError(\"Invalid postfix expression\")\n",
    "            operand2 = stack.pop()\n",
    "            operand1 = stack.pop()\n",
    "            result = apply_operator(char, operand1, operand2)\n",
    "            stack.append(result)\n",
    "        else:\n",
    "            raise ValueError(f\"Invalid character: {char}\")\n",
    "\n",
    "    if len(stack) != 1:\n",
    "        raise ValueError(\"Invalid postfix expression\")\n",
    "\n",
    "    return stack[0]\n",
    "\n",
    "# Example usage\n",
    "postfix_expression = \"23*5+\"\n",
    "result = evaluate_postfix(postfix_expression)\n",
    "print(\"Result of postfix expression:\", result)\n"
   ]
  },
  {
   "cell_type": "markdown",
   "id": "2e17a59b",
   "metadata": {},
   "source": [
    "# 10.Implement a queue using the stack data structure"
   ]
  },
  {
   "cell_type": "code",
   "execution_count": 2,
   "id": "6002e4dc",
   "metadata": {},
   "outputs": [
    {
     "name": "stdout",
     "output_type": "stream",
     "text": [
      "1\n",
      "2\n",
      "3\n",
      "4\n",
      "5\n"
     ]
    }
   ],
   "source": [
    "class QueueUsingStacks:\n",
    "    def __init__(self):\n",
    "        self.input_stack = []\n",
    "        self.output_stack = []\n",
    "\n",
    "    def enqueue(self, item):\n",
    "        self.input_stack.append(item)\n",
    "\n",
    "    def dequeue(self):\n",
    "        if not self.output_stack:\n",
    "            if not self.input_stack:\n",
    "                raise IndexError(\"Queue is empty\")\n",
    "            # Transfer elements from the input stack to the output stack\n",
    "            while self.input_stack:\n",
    "                self.output_stack.append(self.input_stack.pop())\n",
    "        return self.output_stack.pop()\n",
    "\n",
    "    def is_empty(self):\n",
    "        return not (self.input_stack or self.output_stack)\n",
    "\n",
    "    def size(self):\n",
    "        return len(self.input_stack) + len(self.output_stack)\n",
    "\n",
    "# Example usage\n",
    "queue = QueueUsingStacks()\n",
    "\n",
    "# Enqueue elements\n",
    "queue.enqueue(1)\n",
    "queue.enqueue(2)\n",
    "queue.enqueue(3)\n",
    "\n",
    "# Dequeue elements\n",
    "print(queue.dequeue())  \n",
    "print(queue.dequeue())  \n",
    "\n",
    "# Enqueue more elements\n",
    "queue.enqueue(4)\n",
    "queue.enqueue(5)\n",
    "\n",
    "# Dequeue remaining elements\n",
    "while not queue.is_empty():\n",
    "    print(queue.dequeue())  \n"
   ]
  },
  {
   "cell_type": "code",
   "execution_count": null,
   "id": "3a2f31a7",
   "metadata": {},
   "outputs": [],
   "source": []
  }
 ],
 "metadata": {
  "kernelspec": {
   "display_name": "Python 3 (ipykernel)",
   "language": "python",
   "name": "python3"
  },
  "language_info": {
   "codemirror_mode": {
    "name": "ipython",
    "version": 3
   },
   "file_extension": ".py",
   "mimetype": "text/x-python",
   "name": "python",
   "nbconvert_exporter": "python",
   "pygments_lexer": "ipython3",
   "version": "3.10.9"
  }
 },
 "nbformat": 4,
 "nbformat_minor": 5
}
